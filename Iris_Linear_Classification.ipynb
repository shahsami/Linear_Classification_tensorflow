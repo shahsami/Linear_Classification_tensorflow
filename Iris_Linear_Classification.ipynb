{
 "cells": [
  {
   "cell_type": "code",
   "execution_count": 1,
   "metadata": {},
   "outputs": [],
   "source": [
    "import pandas as pd\n",
    "# loading the iris dataset and populate in a variable\n",
    "iris_data = pd.read_csv('iris.csv')"
   ]
  },
  {
   "cell_type": "code",
   "execution_count": 2,
   "metadata": {},
   "outputs": [
    {
     "data": {
      "text/plain": [
       "array(['Setosa', 'Versicolor', 'Virginica'], dtype=object)"
      ]
     },
     "execution_count": 2,
     "metadata": {},
     "output_type": "execute_result"
    }
   ],
   "source": [
    "iris_data['variety'].unique()"
   ]
  },
  {
   "cell_type": "code",
   "execution_count": 28,
   "metadata": {},
   "outputs": [],
   "source": [
    "setosa_data = iris_data[iris_data['variety'] == 'Setosa']\n",
    "versicolor_data = iris_data[iris_data['variety'] == 'Versicolor']\n",
    "virginica_data = iris_data[iris_data['variety'] == 'Virginica']"
   ]
  },
  {
   "cell_type": "code",
   "execution_count": 29,
   "metadata": {},
   "outputs": [],
   "source": [
    "import matplotlib.pyplot as plt"
   ]
  },
  {
   "cell_type": "code",
   "execution_count": 30,
   "metadata": {},
   "outputs": [
    {
     "data": {
      "text/plain": [
       "<matplotlib.collections.PathCollection at 0x2129f161d08>"
      ]
     },
     "execution_count": 30,
     "metadata": {},
     "output_type": "execute_result"
    },
    {
     "data": {
      "image/png": "[encoded data removed]",
      "text/plain": [
       "<Figure size 432x288 with 1 Axes>"
      ]
     },
     "metadata": {
      "needs_background": "light"
     },
     "output_type": "display_data"
    }
   ],
   "source": [
    "# drawing a plot using scatter plot whic is a 2D plotting method which \n",
    "# requires two arguments x(list of x cordiates values) and\n",
    "# y is a list of same length that contains the corresponding Y values\n",
    "\n",
    "x = [0.5, 0.75, 0.76, 0.6]\n",
    "y = [0.5, 0.5, 1.0, 0.8]\n",
    "# plotting the scatter with marker and their size\n",
    "plt.scatter(x,y, marker='*', s=350, c='red')"
   ]
  },
  {
   "cell_type": "code",
   "execution_count": 6,
   "metadata": {},
   "outputs": [],
   "source": [
    "# the head function is used to get the header names of colums\n",
    "# setosa_data.head()"
   ]
  },
  {
   "cell_type": "code",
   "execution_count": 31,
   "metadata": {},
   "outputs": [
    {
     "data": {
      "text/plain": [
       "Text(0, 0.5, 'Sepal width')"
      ]
     },
     "execution_count": 31,
     "metadata": {},
     "output_type": "execute_result"
    },
    {
     "data": {
      "image/png": "[encoded data removed]",
      "text/plain": [
       "<Figure size 432x288 with 1 Axes>"
      ]
     },
     "metadata": {
      "needs_background": "light"
     },
     "output_type": "display_data"
    }
   ],
   "source": [
    "# retrieving the length and width values into xy and inserting into plotter\n",
    "x_setosa = setosa_data['sepal.length']\n",
    "y_setosa = setosa_data['sepal.width']\n",
    "\n",
    "x_versicolor = versicolor_data['sepal.length']\n",
    "y_versicolor = versicolor_data['sepal.width']\n",
    "\n",
    "x_virginica = virginica_data['sepal.length']\n",
    "y_virginica = virginica_data['sepal.width']\n",
    "\n",
    "plt.scatter(x_setosa,y_setosa, marker='*', s=50, c='red')\n",
    "plt.scatter(x_versicolor,y_versicolor, marker='^', s=50, c='green')\n",
    "# plt.scatter(x_virginica,y_virginica, marker='+', s=50, c='orange')\n",
    "\n",
    "\n",
    "plt.xlabel('Sepal length', fontsize = 15)\n",
    "plt.ylabel('Sepal width', fontsize = 15)"
   ]
  },
  {
   "cell_type": "code",
   "execution_count": 98,
   "metadata": {},
   "outputs": [
    {
     "data": {
      "text/html": [
       "<div>\n",
       "<style scoped>\n",
       "    .dataframe tbody tr th:only-of-type {\n",
       "        vertical-align: middle;\n",
       "    }\n",
       "\n",
       "    .dataframe tbody tr th {\n",
       "        vertical-align: top;\n",
       "    }\n",
       "\n",
       "    .dataframe thead th {\n",
       "        text-align: right;\n",
       "    }\n",
       "</style>\n",
       "<table border=\"1\" class=\"dataframe\">\n",
       "  <thead>\n",
       "    <tr style=\"text-align: right;\">\n",
       "      <th></th>\n",
       "      <th>sepal.length</th>\n",
       "      <th>sepal.width</th>\n",
       "    </tr>\n",
       "  </thead>\n",
       "  <tbody>\n",
       "    <tr>\n",
       "      <th>80</th>\n",
       "      <td>5.5</td>\n",
       "      <td>2.4</td>\n",
       "    </tr>\n",
       "    <tr>\n",
       "      <th>81</th>\n",
       "      <td>5.5</td>\n",
       "      <td>2.4</td>\n",
       "    </tr>\n",
       "    <tr>\n",
       "      <th>82</th>\n",
       "      <td>5.8</td>\n",
       "      <td>2.7</td>\n",
       "    </tr>\n",
       "    <tr>\n",
       "      <th>83</th>\n",
       "      <td>6.0</td>\n",
       "      <td>2.7</td>\n",
       "    </tr>\n",
       "    <tr>\n",
       "      <th>84</th>\n",
       "      <td>5.4</td>\n",
       "      <td>3.0</td>\n",
       "    </tr>\n",
       "  </tbody>\n",
       "</table>\n",
       "</div>"
      ],
      "text/plain": [
       "    sepal.length  sepal.width\n",
       "80           5.5          2.4\n",
       "81           5.5          2.4\n",
       "82           5.8          2.7\n",
       "83           6.0          2.7\n",
       "84           5.4          3.0"
      ]
     },
     "execution_count": 98,
     "metadata": {},
     "output_type": "execute_result"
    }
   ],
   "source": [
    "# for seperating training and evaluation dataset\n",
    "# transform these data into boolean value - 1 for setosa 0 for versicolort\n",
    "# adding another column adding each value to 1\n",
    "X_Setosa = setosa_data[['sepal.length', 'sepal.width']]\n",
    "X_Versicolor = versicolor_data[['sepal.length', 'sepal.width']]\n",
    "\n",
    "# shape parameter used to achieve the dimension of the dataset, here 50 rows and 2 column\n",
    "# the loc method from panda dataframe used to access cell or column or to append one\n",
    "X_Setosa.loc[:,'label'] = X_Setosa.shape[0]*[1]\n",
    "X_Versicolor.loc[:,'label'] = X_Versicolor.shape[0]*[0]\n",
    "\n",
    "# the concat method used to concatenate dataframe\n",
    "X = pd.concat([X_Setosa, X_Versicolor])\n",
    "# sample method used to shuffle or permute the dataset so we can have samples of both data and frac parameter to retun fraction of the rows\n",
    "X.sample(frac = 1)\n",
    "\n",
    "# seperating training and evaulation dataset\n",
    "X_train = X[:80]\n",
    "X_eval = X[80:]\n",
    "\n",
    "y_train = X_train['label']\n",
    "X_train = X_train.drop('label', axis=1) # use axis to to drop 1 for column 0 for row\n",
    "y_eval = X_eval['label']\n",
    "X_eval = X_eval.drop('label', axis=1)\n",
    "X_eval.head()"
   ]
  },
  {
   "cell_type": "code",
   "execution_count": null,
   "metadata": {},
   "outputs": [],
   "source": [
    "x\n",
    "\n"
   ]
  }
 ],
 "metadata": {
  "kernelspec": {
   "display_name": "Python 3",
   "language": "python",
   "name": "python3"
  },
  "language_info": {
   "codemirror_mode": {
    "name": "ipython",
    "version": 3
   },
   "file_extension": ".py",
   "mimetype": "text/x-python",
   "name": "python",
   "nbconvert_exporter": "python",
   "pygments_lexer": "ipython3",
   "version": "3.7.5"
  }
 },
 "nbformat": 4,
 "nbformat_minor": 2
}
